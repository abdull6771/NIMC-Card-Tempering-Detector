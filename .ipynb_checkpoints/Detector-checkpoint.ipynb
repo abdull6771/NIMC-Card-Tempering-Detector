{
 "cells": [
  {
   "cell_type": "markdown",
   "id": "9856527b-59a8-4f76-971a-ee0bf3eb9b76",
   "metadata": {},
   "source": [
    "# NATIONAL IDENTITY MANAGEMENT SYSTEM (NIMC)\n",
    "###      FEDERAL REPUBLIC OF NIGERIA"
   ]
  },
  {
   "cell_type": "markdown",
   "id": "54469954-a8b1-46a1-a502-99beaffb42dd",
   "metadata": {},
   "source": [
    "#### Card Tempering Detector"
   ]
  },
  {
   "cell_type": "markdown",
   "id": "8a3c8487-8e9b-4afb-a303-8585896c6ba4",
   "metadata": {},
   "source": [
    "#### The Purpose of this project is to detect tempering NIMC card using Computer Vision. This project will help different organization in detecting whether the i.d. that is the NIMC card provided ir original or no"
   ]
  },
  {
   "cell_type": "markdown",
   "id": "4938162f-9b46-4fb2-a438-4729d4e41d91",
   "metadata": {},
   "source": [
    "##### For this Project i will calculate the structural similarity of original NIMC card and the NIMC card uploaded by the agent"
   ]
  },
  {
   "cell_type": "code",
   "execution_count": 2,
   "id": "53a17eec-0965-4cf6-bb37-e77260bf9107",
   "metadata": {},
   "outputs": [],
   "source": [
    "#importing the neccesary packages\n",
    "from skimage.metrics import structural_similarity #For checking the Similarity index\n",
    "import imutils #For drawing the countours\n",
    "import cv2 #For image preprocessing\n",
    "from PIL import Image #For downloading the image and Visualizing\n",
    "import requests #is using to patch the data from URL"
   ]
  },
  {
   "cell_type": "markdown",
   "id": "a924eead-c19c-4afe-8430-bc18c877afb0",
   "metadata": {},
   "source": [
    "###### Let's create two directory to store our image"
   ]
  },
  {
   "cell_type": "code",
   "execution_count": 5,
   "id": "9880a1a9-3704-48be-9d9a-05cfe8a5c1c7",
   "metadata": {},
   "outputs": [],
   "source": [
    "!mkdir card__tempering"
   ]
  },
  {
   "cell_type": "code",
   "execution_count": null,
   "id": "8bad064a-ae34-4fea-b3bb-39c587c918e1",
   "metadata": {},
   "outputs": [],
   "source": [
    "#Open Image and Display\n",
    "original = Image.open(\"original.jpg\")\n",
    "tempered = Image.open(\"tempered.jpg\""
   ]
  },
  {
   "cell_type": "code",
   "execution_count": null,
   "id": "c1f5341e-8531-421b-8a53-50be32027d33",
   "metadata": {},
   "outputs": [],
   "source": []
  }
 ],
 "metadata": {
  "kernelspec": {
   "display_name": "Python 3 (ipykernel)",
   "language": "python",
   "name": "python3"
  },
  "language_info": {
   "codemirror_mode": {
    "name": "ipython",
    "version": 3
   },
   "file_extension": ".py",
   "mimetype": "text/x-python",
   "name": "python",
   "nbconvert_exporter": "python",
   "pygments_lexer": "ipython3",
   "version": "3.9.13"
  }
 },
 "nbformat": 4,
 "nbformat_minor": 5
}
